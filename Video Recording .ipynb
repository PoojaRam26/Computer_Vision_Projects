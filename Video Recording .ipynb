{
 "cells": [
  {
   "cell_type": "code",
   "execution_count": 2,
   "metadata": {},
   "outputs": [],
   "source": [
    "import cv2\n"
   ]
  },
  {
   "cell_type": "code",
   "execution_count": 3,
   "metadata": {},
   "outputs": [],
   "source": [
    "windowname=\"Live Video Feed\"\n",
    "cv2.namedWindow(windowname)\n",
    "cap=cv2.VideoCapture(0)\n",
    "filename=\"Output.avi\"\n",
    "codec=cv2.VideoWriter_fourcc(\"M\",\"P\",\"E\",\"G\")\n",
    "framerate=30\n",
    "resolution=(640,480)\n",
    "\n",
    "VideoFileOutput=cv2.VideoWriter(filename,codec,framerate,resolution)\n",
    "\n",
    "if cap.isOpened():\n",
    "    ret,frame=cap.read()\n",
    "else:\n",
    "    ret=False\n",
    "\n",
    "while ret:\n",
    "    ret,frame=cap.read()\n",
    "    VideoFileOutput.write(frame)\n",
    "    cv2.imshow(windowname,frame)\n",
    "    \n",
    "    if cv2.waitKey(1)==27:\n",
    "        break\n",
    "cv2.destroyAllWindows()\n",
    "VideoFileOutput.release()\n",
    "cap.release()"
   ]
  },
  {
   "cell_type": "code",
   "execution_count": null,
   "metadata": {},
   "outputs": [],
   "source": []
  }
 ],
 "metadata": {
  "kernelspec": {
   "display_name": "Python 3",
   "language": "python",
   "name": "python3"
  }
 },
 "nbformat": 4,
 "nbformat_minor": 4
}
