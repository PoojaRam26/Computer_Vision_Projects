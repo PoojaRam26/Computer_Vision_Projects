{
 "cells": [
  {
   "cell_type": "markdown",
   "metadata": {},
   "source": [
    "## Calculate Frame Rate Per Seconds "
   ]
  },
  {
   "cell_type": "code",
   "execution_count": 1,
   "metadata": {},
   "outputs": [],
   "source": [
    "import cv2\n",
    "import time"
   ]
  },
  {
   "cell_type": "code",
   "execution_count": 3,
   "metadata": {},
   "outputs": [
    {
     "name": "stdout",
     "output_type": "stream",
     "text": [
      "Frames Per Second using cap.get(cv2.CAP_PROP_FPS):0.0\n",
      "capturing 120 frames \n",
      "Start time 1591442008.0993738\n",
      "End Time 1591442012.1886547\n",
      "Time taken : 4.089280843734741 seconds\n",
      "Estimated Frames per second : 29.34501311736857\n"
     ]
    }
   ],
   "source": [
    "cap=cv2.VideoCapture(0)\n",
    "\n",
    "fps=cap.get(cv2.CAP_PROP_FPS)\n",
    "\n",
    "\n",
    "print(\"Frames Per Second using cap.get(cv2.CAP_PROP_FPS):{0}\".format(fps))\n",
    "\n",
    "num_frames=120\n",
    "print(\"capturing {0} frames \".format(num_frames))\n",
    "\n",
    "start=time.time()\n",
    "print(\"Start time\",start)\n",
    "\n",
    "for i in range(0,num_frames):\n",
    "    ret,frame=cap.read()\n",
    "\n",
    "end=time.time()\n",
    "print(\"End Time\",end)\n",
    "\n",
    "seconds=end-start\n",
    "print(\"Time taken : {0} seconds\".format(seconds))\n",
    "\n",
    "fps=num_frames/seconds\n",
    "print(\"Estimated Frames per second : {0}\".format(fps))\n",
    "cap.release()"
   ]
  },
  {
   "cell_type": "code",
   "execution_count": null,
   "metadata": {},
   "outputs": [],
   "source": []
  }
 ],
 "metadata": {
  "kernelspec": {
   "display_name": "Python 3",
   "language": "python",
   "name": "python3"
  },
  "language_info": {
   "codemirror_mode": {
    "name": "ipython",
    "version": 3
   },
   "file_extension": ".py",
   "mimetype": "text/x-python",
   "name": "python",
   "nbconvert_exporter": "python",
   "pygments_lexer": "ipython3",
   "version": "3.7.4"
  }
 },
 "nbformat": 4,
 "nbformat_minor": 4
}
