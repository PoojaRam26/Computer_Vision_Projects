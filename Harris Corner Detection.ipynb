{
 "cells": [
  {
   "cell_type": "markdown",
   "metadata": {},
   "source": [
    "# Harris Corner Detection"
   ]
  },
  {
   "cell_type": "code",
   "execution_count": 1,
   "metadata": {},
   "outputs": [],
   "source": [
    "%matplotlib inline\n",
    "import numpy as np\n",
    "import matplotlib.pyplot as plt\n",
    "from skimage import data\n",
    "from skimage.feature import corner_harris,corner_subpix, corner_peaks\n",
    "from skimage.transform import warp,AffineTransform\n",
    "from skimage.draw import ellipse"
   ]
  },
  {
   "cell_type": "code",
   "execution_count": 2,
   "metadata": {},
   "outputs": [],
   "source": [
    "tform=AffineTransform(scale=(1.3,1.1),rotation=1,shear=0.7,translation=(210,50))\n",
    "\n",
    "image=warp(data.checkerboard(),tform.inverse,output_shape=(350,350))\n",
    "rr,cc=ellipse(310,175,10,110)\n",
    "image[rr,cc]=1\n",
    "image[180:230,10:60]=1\n",
    "image[230:230,60:110]=1"
   ]
  },
  {
   "cell_type": "code",
   "execution_count": null,
   "metadata": {},
   "outputs": [],
   "source": []
  }
 ],
 "metadata": {
  "kernelspec": {
   "display_name": "Python 3",
   "language": "python",
   "name": "python3"
  },
  "language_info": {
   "codemirror_mode": {
    "name": "ipython",
    "version": 3
   },
   "file_extension": ".py",
   "mimetype": "text/x-python",
   "name": "python",
   "nbconvert_exporter": "python",
   "pygments_lexer": "ipython3",
   "version": "3.7.4"
  }
 },
 "nbformat": 4,
 "nbformat_minor": 4
}
