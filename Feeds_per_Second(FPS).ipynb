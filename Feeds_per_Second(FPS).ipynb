{
 "cells": [
  {
   "cell_type": "code",
   "execution_count": 6,
   "metadata": {},
   "outputs": [],
   "source": [
    "import cv2\n",
    "import time"
   ]
  },
  {
   "cell_type": "code",
   "execution_count": 16,
   "metadata": {},
   "outputs": [
    {
     "name": "stdout",
     "output_type": "stream",
     "text": [
      "Frames per second using video .get(cv2.cv.CAP_PROP_FPS) : 0.0\n",
      "Capturing 120 frames\n",
      "Time Taken : 4.112989664077759\n",
      "Estimated frames per second: 29.17585741779567\n"
     ]
    }
   ],
   "source": [
    "cap=cv2.VideoCapture(0)\n",
    "\n",
    "fps= cap.get(cv2.CAP_PROP_FPS)\n",
    "\n",
    "print(\"Frames per second using video .get(cv2.cv.CAP_PROP_FPS) : {0}\".format(fps))\n",
    "\n",
    "num_frames=120\n",
    "\n",
    "print(\"Capturing {0} frames\".format(num_frames))\n",
    "\n",
    "#start Time\n",
    "start =time.time()\n",
    "\n",
    "for i in range(0,num_frames):\n",
    "    ret,frame=cap.read()\n",
    "\n",
    "#end time\n",
    "end=time.time()\n",
    "\n",
    "#Time Elapsed\n",
    "seconds=end-start\n",
    "print(\"Time Taken : {0}\".format(seconds))\n",
    "#Calculate Frames per second\n",
    "fps =num_frames /seconds;\n",
    "print(\"Estimated frames per second: {0}\".format(fps))\n",
    "\n",
    "#Release Video\n",
    "cap.release()\n"
   ]
  },
  {
   "cell_type": "code",
   "execution_count": null,
   "metadata": {},
   "outputs": [],
   "source": [
    "cv2"
   ]
  }
 ],
 "metadata": {
  "kernelspec": {
   "display_name": "Python 3",
   "language": "python",
   "name": "python3"
  },
  "language_info": {
   "codemirror_mode": {
    "name": "ipython",
    "version": 3
   },
   "file_extension": ".py",
   "mimetype": "text/x-python",
   "name": "python",
   "nbconvert_exporter": "python",
   "pygments_lexer": "ipython3",
   "version": "3.7.4"
  }
 },
 "nbformat": 4,
 "nbformat_minor": 4
}
